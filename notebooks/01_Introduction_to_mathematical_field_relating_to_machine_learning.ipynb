{
  "nbformat": 4,
  "nbformat_minor": 0,
  "metadata": {
    "colab": {
      "provenance": [],
      "authorship_tag": "ABX9TyN91tmS0663FzVoSUc88QRK",
      "include_colab_link": true
    },
    "kernelspec": {
      "name": "python3",
      "display_name": "Python 3"
    },
    "language_info": {
      "name": "python"
    }
  },
  "cells": [
    {
      "cell_type": "markdown",
      "metadata": {
        "id": "view-in-github",
        "colab_type": "text"
      },
      "source": [
        "<a href=\"https://colab.research.google.com/github/tiennvcs/MA4ML/blob/main/notebooks/01_Introduction_to_mathematical_field_relating_to_machine_learning.ipynb\" target=\"_parent\"><img src=\"https://colab.research.google.com/assets/colab-badge.svg\" alt=\"Open In Colab\"/></a>"
      ]
    },
    {
      "cell_type": "markdown",
      "source": [
        "In this notebook, we will reach out the importance of math in machine learning"
      ],
      "metadata": {
        "id": "Ho5ktBU4RKgm"
      }
    },
    {
      "cell_type": "code",
      "execution_count": null,
      "metadata": {
        "id": "QrnXaMczQE17"
      },
      "outputs": [],
      "source": [
        "print(\"Hello World\")"
      ]
    }
  ]
}