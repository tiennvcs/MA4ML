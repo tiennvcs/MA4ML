{
  "nbformat": 4,
  "nbformat_minor": 0,
  "metadata": {
    "colab": {
      "provenance": [],
      "toc_visible": true,
      "authorship_tag": "ABX9TyN08hkGNKVX8799qmQh5dSG",
      "include_colab_link": true
    },
    "kernelspec": {
      "name": "python3",
      "display_name": "Python 3"
    },
    "language_info": {
      "name": "python"
    }
  },
  "cells": [
    {
      "cell_type": "markdown",
      "metadata": {
        "id": "view-in-github",
        "colab_type": "text"
      },
      "source": [
        "<a href=\"https://colab.research.google.com/github/tiennvcs/MA4ML/blob/main/notebooks/univerariate_probability/01_introduction.ipynb\" target=\"_parent\"><img src=\"https://colab.research.google.com/assets/colab-badge.svg\" alt=\"Open In Colab\"/></a>"
      ]
    },
    {
      "cell_type": "markdown",
      "source": [
        "# Univariate probability"
      ],
      "metadata": {
        "id": "fLJCgR1qUZsd"
      }
    },
    {
      "cell_type": "markdown",
      "source": [
        "```\n",
        "Probability theory is nothing but common sense reduced to calculation - Peirre Laplace, 1812\n",
        "```\n"
      ],
      "metadata": {
        "id": "C6mOJAhNZR9v"
      }
    },
    {
      "cell_type": "markdown",
      "source": [
        "In this notebook, we will reach out some concepts in probability with single variable"
      ],
      "metadata": {
        "id": "fZ8oTxE1ZSEB"
      }
    },
    {
      "cell_type": "markdown",
      "source": [
        "## Probability"
      ],
      "metadata": {
        "id": "0cZAfeU8Zb12"
      }
    },
    {
      "cell_type": "markdown",
      "source": [
        "We usually say that the probability that a fair coin will land heads (or tails) is $50\\%$. But what does this mean?\n",
        "\n",
        "The common understanding for this statement is if we flip the coin many times, we expect it to land heads (or tails) about half the time. And because it come from counting the how many times heads appear in a long run trials, so we call it as **frequentist** interpretation of probability."
      ],
      "metadata": {
        "id": "bGR19ByQrqwq"
      }
    },
    {
      "cell_type": "markdown",
      "source": [
        "Another way to make the above statement understandable is using **Bayesian** interpretation of probability. In this point of view, the figure $50\\%$ imply that we believe the coin is equally likely to land heads or tails on the next toss. It also means our **uncertainty** the results in the future but we can measure it in some certain. So it is traditonally related to information rather than repeated trials."
      ],
      "metadata": {
        "id": "dcSYWJUys5fS"
      }
    },
    {
      "cell_type": "markdown",
      "source": [
        "There are some advantages that Bayesian representation could bring to us. It is the best for modeling one-off events that do not have long term frequencies. So we will entirely adop Bayesian interpretation during the notebooks."
      ],
      "metadata": {
        "id": "jLWSGDacuWX9"
      }
    },
    {
      "cell_type": "markdown",
      "source": [
        "## Types of uncertainty"
      ],
      "metadata": {
        "id": "HV-rnq3iv-xD"
      }
    },
    {
      "cell_type": "markdown",
      "source": [
        "Due to unknown causes or mechanism when generating data (rolling a dice), it leads us the unpredictable results, and this type of effect is called **epistemic uncertainty**, or **model uncertainty**.\n",
        "\n",
        "*Epistemic uncertainty refers to the uncertainty of the model (epistemology is the study of knowledge) and is often due to a lack of training data. Examples of epistemic uncertainty include underrepresented minority groups in a facial recognition dataset or the presence of rare words in a language modeling context.*"
      ],
      "metadata": {
        "id": "S1yXToxuwJio"
      }
    },
    {
      "cell_type": "markdown",
      "source": [
        "The second kind of uncertainty rises from instrinct variability, which cannot be deducted even if we gather more samples. And this type is called **aleatoric uncertainty**, or **data uncertainty**, for simpler.\n",
        "\n",
        "*Aleatoric uncertainty refers to the data's inherent randomness that cannot be explained away (aleator refers to someone who rolls the dice in Latin). Examples of data with aleatoric uncertainty include noisy telemetry data and low-resolution images or social media text.*"
      ],
      "metadata": {
        "id": "Myswn6jOx1jP"
      }
    },
    {
      "cell_type": "markdown",
      "source": [
        "## Probability basic rules"
      ],
      "metadata": {
        "id": "nRvfbjQyzrDd"
      }
    },
    {
      "cell_type": "markdown",
      "source": [
        "An **event**, denoted by the *binary* variable **A** (we can use **B, C, D, etc**),  which states that some state of the world either occurs or does not occur. For example, A might be event \"it will have clouds tomorrow\", or \"Two days ago, I climbed\", or \"the label is y = 2\", or \"the model is overfitting\", etc."
      ],
      "metadata": {
        "id": "2CD_gGj8zv1e"
      }
    },
    {
      "cell_type": "markdown",
      "source": [
        "### An event"
      ],
      "metadata": {
        "id": "edYnJQOP3FOl"
      }
    },
    {
      "cell_type": "markdown",
      "source": [
        "We use expression $\\Pr(A)$ to denote the probability with which we believe event A is true (appear, occur). It contains many characteristics depending which type of variable (discrete, continuous), but generally and forcely, $0 \\le \\Pr(A) \\le 1$, where $\\Pr(A) = 0$ means the event definitely will not happen, and $\\Pr(A) = 1$ means the event definitely will happen.\n",
        "\n",
        "The opposing event of A is denoted as $\\bar{A}$, for example, $\\bar{A}$ = \"it will have clouds tomorrow\" and $\\bar{A}$ = \"it will not have coulds tommorow\". We can calculate the value of $\\bar{A}$ when we already know the probability $A$ appear through this formula $\\Pr(\\bar{A}) = 1 - \\Pr(A)$"
      ],
      "metadata": {
        "id": "RZAFoseU0sQk"
      }
    },
    {
      "cell_type": "markdown",
      "source": [
        "### Two events"
      ],
      "metadata": {
        "id": "5WsLyyXq0O11"
      }
    },
    {
      "cell_type": "markdown",
      "source": [
        "#### Joint probability"
      ],
      "metadata": {
        "id": "1wfSUrRN3Oxo"
      }
    },
    {
      "cell_type": "markdown",
      "source": [
        "Join probability of two events $A$ and $B$ is written as $\\Pr(A \\cap B)$, or $\\Pr(A \\wedge B)$, or $\\Pr(A, B)$.\n",
        "\n",
        "If two events are indepedent ($A$ appear do not completely effect on $B$ occur), we get the simple caculation for this case \n",
        "\n",
        "$$\n",
        "\\Pr(A, B) = \\Pr(A)\\Pr(B)\n",
        "$$"
      ],
      "metadata": {
        "id": "VqsQVbMm3Sho"
      }
    },
    {
      "cell_type": "markdown",
      "source": [
        "#### Union of two events"
      ],
      "metadata": {
        "id": "j_T2UL2c5BMS"
      }
    },
    {
      "cell_type": "markdown",
      "source": [
        "The probability of event $A$ or $B$ happening is denoted as $\\Pr(A \\cup B)$ and calculated as follow.\n",
        "\n",
        "$$\n",
        "\\Pr(A \\cup B ) = \\Pr(A) + \\Pr(B) - \\Pr(A \\cap B)\n",
        "$$"
      ],
      "metadata": {
        "id": "9DZ2YbKO5HLS"
      }
    },
    {
      "cell_type": "markdown",
      "source": [
        "If two events are mutually exclusive (they do not happend at the same time), it means $\\Pr(A \\cap B) = 0$, we have: \n",
        "$$\n",
        "\\Pr(A \\cup B) = \\Pr(A) + \\Pr(B)\n",
        "$$"
      ],
      "metadata": {
        "id": "TgYnxT106CVx"
      }
    },
    {
      "cell_type": "markdown",
      "source": [
        "#### Conditional probability"
      ],
      "metadata": {
        "id": "JjZQh1A06xJR"
      }
    },
    {
      "cell_type": "markdown",
      "source": [],
      "metadata": {
        "id": "-5whW2rU628C"
      }
    },
    {
      "cell_type": "code",
      "source": [],
      "metadata": {
        "id": "YLJeQurX5GbB"
      },
      "execution_count": null,
      "outputs": []
    }
  ]
}